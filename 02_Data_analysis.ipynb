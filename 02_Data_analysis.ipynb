{
 "cells": [
  {
   "cell_type": "markdown",
   "metadata": {},
   "source": [
    "# Part II: Data analysis\n",
    "\n",
    "![](img/analysis.png)\n",
    "\n",
    "In this section we'll learn:\n",
    "- How to obtain simple insights from the data\n",
    "- How to generate simple plots\n",
    "- Groupping data and computing aggregates\n",
    "- Basic time series operations"
   ]
  },
  {
   "cell_type": "code",
   "execution_count": null,
   "metadata": {},
   "outputs": [],
   "source": [
    "import os\n",
    "\n",
    "movies = pandas.read_json(os.path.join('data', 'movies_clean.jsonl.bz2'), lines=True).set_index('imdb_id')"
   ]
  },
  {
   "cell_type": "markdown",
   "metadata": {},
   "source": [
    "### Highest rated movies\n",
    "\n",
    "Back from our previous example, let us see which are the highest rated movies.\n",
    "\n",
    "We can easily sort our data by a column with the `DataFrame.sort_values()` method. It takes a boolean argument `ascending`.\n",
    "\n",
    "**Exercise:** Get the top 10 rated movies."
   ]
  },
  {
   "cell_type": "code",
   "execution_count": null,
   "metadata": {},
   "outputs": [],
   "source": []
  },
  {
   "cell_type": "markdown",
   "metadata": {},
   "source": [
    "`pandas` provides the method `.nlargest()` to perform this operation. The reason, is that sorting a large `DataFrame`, just to find the top 10 values is very inefficient.\n",
    "\n",
    "**Exercise:** Obtain again the top 10 rated movies, this time with `.nlargest()`. And compare the difference of time between them. Jupyter provides the magic `%timeit` that display how long a line of code takes."
   ]
  },
  {
   "cell_type": "code",
   "execution_count": null,
   "metadata": {},
   "outputs": [],
   "source": []
  },
  {
   "cell_type": "markdown",
   "metadata": {},
   "source": [
    "Did you watch any of them? Do you think are the best Bollywood movies of history?\n",
    "\n",
    "Something interesting is that not so many people voted for them. So the rating is based in the opinions of not many people. In this dataset, how many votes is it \"normal\" to have for a movie?\n",
    "\n",
    "**Exercises:**\n",
    "- Get some statistics about the number of votes (min, max, median, mean, quantiles...)\n",
    "- Plot a histogram with the distribution (pandas provides the method `Series.hist()` to plot histograms). Change the number of `bins` and see how it changes."
   ]
  },
  {
   "cell_type": "code",
   "execution_count": null,
   "metadata": {},
   "outputs": [],
   "source": []
  },
  {
   "cell_type": "markdown",
   "metadata": {},
   "source": [
    "What we are interested, is to know whether there is a correlation between the rating and the number of people who rated the movie. To see how they are related we can analyze the correlation, and we can plot both variables.\n",
    "\n",
    "**Exercises:**\n",
    "- Compute the correlation between the two variables (`DataFrame.corr()` computes the correlation among all the columns in a `DataFrame`).\n",
    "- Generate a scatter plot with the data (`pandas` provides many plots, in most cases we want to use the method `.plot(kind=kind)` where `kind` can be `line`, `bar`, `barh`, `scatter`...).\n",
    "- Which are the movies that have very large number of ratings?\n",
    "- Generate the scatter plot without these values. `Series.quantile()` is used often to detect extreme values, as it can report the value containing for example 95% of the samples."
   ]
  },
  {
   "cell_type": "markdown",
   "metadata": {},
   "source": [
    "### Movie duration over time"
   ]
  },
  {
   "cell_type": "markdown",
   "metadata": {},
   "source": [
    "Let us analyze something different now. The question is, whether the duration of Bollywood changed over time, and in which way.\n",
    "\n",
    "We have already seen, that plotting data can help find answers to our questions.\n",
    "\n",
    "**Exercise:** Plot the duration of the movie as a function of the release date of the movie. In this case, it can be useful to plot a line plot. For line plots we usually set the column we want in the `x` axis of the plot as the index. The columns of the `DataFrame` will be plotted as lines. "
   ]
  },
  {
   "cell_type": "code",
   "execution_count": null,
   "metadata": {},
   "outputs": [],
   "source": []
  },
  {
   "cell_type": "markdown",
   "metadata": {},
   "source": [
    "Plotting with the original granularity (one point per movie) can be very noise. But `pandas` can easily aggregate data, including time series data. To change the frequency of the data, `DataFrame.resample` exists. `reample` receives a parameter with the new frequency, for example `D` for day, `M` for month, `Q` for quarter, and more specific frequencies like `2M` for 2 months can be used. The result of `resample` is a `GroupBy` object, and we need to specify the aggregate function that we want to use on it, for example `mean`, `median`...\n",
    "\n",
    "**Exercise:** Resample the `release_date` to a quarter frequency, and plot the median of the runtime over it."
   ]
  },
  {
   "cell_type": "code",
   "execution_count": null,
   "metadata": {},
   "outputs": [],
   "source": []
  },
  {
   "cell_type": "markdown",
   "metadata": {},
   "source": [
    "Similar to `resample`, `pandas` provides a `groupby` method that can group discrete values, for example strings. The syntax is similar, but the column to group by is not expected to be the index, and to specify which of the columns to group by, we provide the name as a parameter: `movies.groupby(column_to_group_by)`.\n",
    "\n",
    "**Exercise:** Group the data by the column color, and check whether in average color movies are longer or shorter than black and white movies."
   ]
  },
  {
   "cell_type": "code",
   "execution_count": null,
   "metadata": {},
   "outputs": [],
   "source": []
  }
 ],
 "metadata": {
  "kernelspec": {
   "display_name": "Python 3",
   "language": "python",
   "name": "python3"
  },
  "language_info": {
   "codemirror_mode": {
    "name": "ipython",
    "version": 3
   },
   "file_extension": ".py",
   "mimetype": "text/x-python",
   "name": "python",
   "nbconvert_exporter": "python",
   "pygments_lexer": "ipython3",
   "version": "3.7.0"
  }
 },
 "nbformat": 4,
 "nbformat_minor": 2
}
